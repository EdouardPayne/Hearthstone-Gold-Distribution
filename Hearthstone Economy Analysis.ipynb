{
 "cells": [
  {
   "cell_type": "markdown",
   "metadata": {},
   "source": [
    "# HS Investigation on win distribution\n",
    "\n",
    "HS Investigation on win distribution"
   ]
  },
  {
   "cell_type": "code",
   "execution_count": 4,
   "metadata": {},
   "outputs": [],
   "source": [
    "import numpy as np\n",
    "import math as math\n",
    "import pandas as pd\n",
    "import matplotlib.pyplot as plt\n",
    "import random as random"
   ]
  },
  {
   "cell_type": "code",
   "execution_count": 198,
   "metadata": {},
   "outputs": [],
   "source": [
    "reward_pool = {\n",
    "    0:{'case_1':{'gold':[25,30],'dust':[25,30],'card':[5]}},\n",
    "    1:{'case_1':{'gold':[30,35],'dust':[30,35],'card':[5]}},\n",
    "    2:{'case_1':{'gold':[40,50],'dust':[40,50],'card':[5, 20]}},\n",
    "    3:{'base_1':{'gold':[25,35]},'case_1':{'gold':[20,25],'dust':[10,25],'card':[20]}},\n",
    "    4:{'base_1':{'gold':[50,60]},'case_1':{'gold':[20,25],'dust':[10,25],'card':[20]}},\n",
    "    5:{'base_1':{'gold':[50,60]},'case_1':{'gold':[45,60],'dust':[45,60],'card':[20]}},\n",
    "    6:{'base_1':{'gold':[75,85]},'case_1':{'gold':[45,60],'dust':[45,60],'card':[20]}},\n",
    "    7:{'base_1':{'gold':[150,160]},'case_1':{'gold':[20,25],'dust':[10,25],'card':[20]}},\n",
    "    8:{'base_1':{'gold':[150,160]},'case_1':{'gold':[20,25],'dust':[10,25],'card':[20]},'case_1':{'gold':[20,25],'dust':[10,25],'card':[20]}},\n",
    "    9:{'base_1':{'gold':[150,160]},'case_1':{'gold':[20,25],'dust':[10,25],'card':[20]},'case_1':{'gold':[20,25],'dust':[10,25],'card':[20]}},\n",
    "    10:{'base_1':{'gold':[150,160]},'case_1':{'gold':[20,25],'dust':[10,25],'card':[20]},'case_1':{'gold':[20,25],'dust':[10,25],'card':[20]}},\n",
    "    11:{'base_1':{'gold':[150,160]},'case_1':{'gold':[20,25],'dust':[10,25],'card':[20]},'case_1':{'gold':[20,25],'dust':[10,25],'card':[20]}},\n",
    "    12:{'base_1':{'gold':[150,160]},'case_1':{'gold':[20,25],'dust':[10,25],'card':[20]},'case_1':{'gold':[20,25],'dust':[10,25],'card':[20]}}\n",
    "}\n",
    "\n",
    "class GameGenerator:\n",
    "    def __init__(self, games, lives, cost, max_wins):\n",
    "        self.games = games\n",
    "        self.lives = lives\n",
    "        self.cost = cost\n",
    "        self.max_wins = max_wins\n",
    "        self.total_wins = []\n",
    "    \n",
    "    def simulate_games(self):\n",
    "        start_games = 0\n",
    "        games = self.games\n",
    "        \n",
    "        wins_total = []\n",
    "        \n",
    "        while start_games < games:\n",
    "            x = self.run_simulation()\n",
    "            \n",
    "            wins_total.append(x)\n",
    "            start_games +=1\n",
    "        \n",
    "        self.total_wins = wins_total\n",
    "            \n",
    "    def run_simulation(self):\n",
    "        games_won = []\n",
    "        player_game = 0\n",
    "        while player_game < self.lives:       \n",
    "                result = random.randint(0,1)\n",
    "                if len(games_won) == self.max_wins:\n",
    "                    break\n",
    "                elif result == 1:\n",
    "                    player_game += 1\n",
    "                else:\n",
    "                    games_won.append(player_game)\n",
    "        return len(games_won)\n",
    "    \n",
    "    def hand_rewards(self):\n",
    "        i = 0\n",
    "        \n",
    "        gold_amount = []\n",
    "        dust_amount = []\n",
    "        \n",
    "        while i < len(self.total_wins)-1:\n",
    "            i+= 1\n",
    "            case = reward_pool[self.total_wins[i]]\n",
    "\n",
    "            for x, y in case.items():\n",
    "                item = random.choice(list(y.keys()))\n",
    "                item_amounts = case[x][item]\n",
    "                item_amount = 0\n",
    "                \n",
    "                item_amount = item_amounts[random.randrange(len(item_amounts))]\n",
    "                print(item_amount)\n",
    "\n",
    "\n",
    "    \n",
    "    def run_statistical_analysis(self):\n",
    "        np_array = np.array(self.total_wins)\n",
    "        _ = plt.hist(np_array, align='mid',bins=self.max_wins)\n",
    "        plt.show()\n",
    "        return np.mean(np_array)\n",
    "    \n",
    "            "
   ]
  },
  {
   "cell_type": "code",
   "execution_count": 199,
   "metadata": {},
   "outputs": [],
   "source": [
    "a = GameGenerator(20,3,150,12)"
   ]
  },
  {
   "cell_type": "code",
   "execution_count": 200,
   "metadata": {},
   "outputs": [],
   "source": [
    "a.simulate_games()"
   ]
  },
  {
   "cell_type": "code",
   "execution_count": 201,
   "metadata": {
    "scrolled": false
   },
   "outputs": [
    {
     "data": {
      "image/png": "[encoded data removed]",
      "text/plain": [
       "<Figure size 432x288 with 1 Axes>"
      ]
     },
     "metadata": {
      "needs_background": "light"
     },
     "output_type": "display_data"
    },
    {
     "data": {
      "text/plain": [
       "2.95"
      ]
     },
     "execution_count": 201,
     "metadata": {},
     "output_type": "execute_result"
    }
   ],
   "source": [
    "a.run_statistical_analysis()"
   ]
  },
  {
   "cell_type": "code",
   "execution_count": 202,
   "metadata": {
    "scrolled": false
   },
   "outputs": [
    {
     "name": "stdout",
     "output_type": "stream",
     "text": [
      "150\n",
      "20\n",
      "5\n",
      "5\n",
      "60\n",
      "25\n",
      "35\n",
      "20\n",
      "40\n",
      "160\n",
      "10\n",
      "50\n",
      "20\n",
      "50\n",
      "20\n",
      "30\n",
      "5\n",
      "5\n",
      "35\n",
      "50\n",
      "20\n",
      "60\n",
      "20\n",
      "50\n",
      "50\n",
      "25\n",
      "25\n",
      "60\n",
      "25\n"
     ]
    }
   ],
   "source": [
    "a.hand_rewards()"
   ]
  },
  {
   "cell_type": "code",
   "execution_count": 162,
   "metadata": {},
   "outputs": [
    {
     "data": {
      "text/plain": [
       "{0: {'case_1': {'gold': [25, 30], 'dust': [25, 30], 'card': [5]}},\n",
       " 1: {'case_1': {'gold': [30, 35], 'dust': [30, 35], 'card': [5]}},\n",
       " 2: {'case_1': {'gold': [40, 50], 'dust': [40, 50], 'card': [5, 20]}},\n",
       " 3: {'base_1': {'gold': [25, 35]},\n",
       "  'case_1': {'gold': [20, 25], 'dust': [10, 25], 'card': [20]}},\n",
       " 4: {'base_1': {'gold': [50, 60]},\n",
       "  'case_1': {'gold': [20, 25], 'dust': [10, 25], 'card': [20]}},\n",
       " 5: {'base_1': {'gold': [50, 60]},\n",
       "  'case_1': {'gold': [45, 60], 'dust': [45, 60], 'card': [20]}},\n",
       " 6: {'base_1': {'gold': [75, 85]},\n",
       "  'case_1': {'gold': [45, 60], 'dust': [45, 60], 'card': [20]}},\n",
       " 7: {'base_1': {'gold': [150, 160]},\n",
       "  'case_1': {'gold': [20, 25], 'dust': [10, 25], 'card': [20]}},\n",
       " 8: {'base_1': {'gold': [150, 160]},\n",
       "  'case_1': {'gold': [20, 25], 'dust': [10, 25], 'card': [20]}},\n",
       " 9: {'base_1': {'gold': [150, 160]},\n",
       "  'case_1': {'gold': [20, 25], 'dust': [10, 25], 'card': [20]}},\n",
       " 10: {'base_1': {'gold': [150, 160]},\n",
       "  'case_1': {'gold': [20, 25], 'dust': [10, 25], 'card': [20]}},\n",
       " 11: {'base_1': {'gold': [150, 160]},\n",
       "  'case_1': {'gold': [20, 25], 'dust': [10, 25], 'card': [20]}},\n",
       " 12: {'base_1': {'gold': [150, 160]},\n",
       "  'case_1': {'gold': [20, 25], 'dust': [10, 25], 'card': [20]}}}"
      ]
     },
     "execution_count": 162,
     "metadata": {},
     "output_type": "execute_result"
    }
   ],
   "source": [
    "reward_pool"
   ]
  },
  {
   "cell_type": "code",
   "execution_count": null,
   "metadata": {},
   "outputs": [],
   "source": []
  },
  {
   "cell_type": "code",
   "execution_count": null,
   "metadata": {},
   "outputs": [],
   "source": []
  }
 ],
 "metadata": {
  "kernelspec": {
   "display_name": "Python 3",
   "language": "python",
   "name": "python3"
  }
 },
 "nbformat": 4,
 "nbformat_minor": 2
}
